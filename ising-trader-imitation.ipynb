{
 "cells": [
  {
   "cell_type": "markdown",
   "metadata": {},
   "source": [
    "# Fresh Shot at the Ising Cooperative Behavior Model"
   ]
  },
  {
   "cell_type": "code",
   "execution_count": 1,
   "metadata": {},
   "outputs": [
    {
     "ename": "NameError",
     "evalue": "name 'MathJax' is not defined",
     "output_type": "error",
     "traceback": [
      "\u001b[0;31m---------------------------------------------------------------------------\u001b[0m",
      "\u001b[0;31mNameError\u001b[0m                                 Traceback (most recent call last)",
      "\u001b[0;32m<ipython-input-1-d3a6afe33d14>\u001b[0m in \u001b[0;36m<module>\u001b[0;34m\u001b[0m\n\u001b[1;32m      1\u001b[0m \u001b[0;31m# import cell\u001b[0m\u001b[0;34m\u001b[0m\u001b[0;34m\u001b[0m\u001b[0m\n\u001b[0;32m----> 2\u001b[0;31m MathJax.Hub.Config({\n\u001b[0m\u001b[1;32m      3\u001b[0m   \u001b[0mTeX\u001b[0m\u001b[0;34m:\u001b[0m \u001b[0;34m{\u001b[0m \u001b[0mequationNumbers\u001b[0m\u001b[0;34m:\u001b[0m \u001b[0;34m{\u001b[0m \u001b[0mautoNumber\u001b[0m\u001b[0;34m:\u001b[0m \u001b[0;34m\"AMS\"\u001b[0m \u001b[0;34m}\u001b[0m \u001b[0;34m}\u001b[0m\u001b[0;34m\u001b[0m\u001b[0m\n\u001b[1;32m      4\u001b[0m });\n",
      "\u001b[0;31mNameError\u001b[0m: name 'MathJax' is not defined"
     ]
    }
   ],
   "source": [
    "# import cell\n"
   ]
  },
  {
   "cell_type": "markdown",
   "metadata": {},
   "source": [
    "## Model Parameters\n",
    "* $K$ - tendency towards imitation, also called the \"coupling strength\"\n",
    "  * $K$ could potentially be heterogenous across neighbors\n",
    "* $\\sigma$ - tendency towards idiosyncratic (noisy) behavior\n",
    "* Ratio of $\\frac{K}{\\sigma}$ determines the battle between order and disorder eventually governing the structure of the market\n",
    "\n",
    "MathJax.Hub.Config({\n",
    "  TeX: { equationNumbers: { autoNumber: \"AMS\" } }\n",
    "});\n",
    "\n",
    "### Two Major equations in this model:\n",
    "1. Equation 1 is the __asset price update equation__:\n",
    "\\begin{equation} \n",
    "\\Delta p = p(t)-p(t-1) = \\alpha\\sum_{i=1}^{N} s_i(t-1) + \\sigma_{t-1} \\tag{1}\n",
    "\\end{equation}\n",
    "This is the price change from one time step to the next. It is the sum of all current investor beliefs $s_i\\in\\{-1,+1\\}$, multiplied by some discount factor $\\alpha$ that is proportional to the depth of the network so price swings aren't unrealistically large. The new price at time $t$ would then be $p(t) = p(t-1)+\\alpha\\sum_{i=1}^{N} s_i + \\sigma$. The stochastic variable $\\sigma$ has a magnitude of its own that must be tuned to be consistent with the size of the network. \n",
    "\n",
    "\n",
    "2. Equation 2 is the __investor belief update equation__:\n",
    "\\begin{equation}\n",
    "s_i(t-1)=\\mathrm{sign}(K\\sum_{j\\in N(i)} s_j + \\epsilon_i) \\tag{2}\n",
    "\\end{equation}\n",
    "This is the update function for *each* investor $i$. The update consists of the investor polling all of their neighbors $j\\in N(i)$ for their beliefs on the market and summing across these values. Since The "
   ]
  },
  {
   "cell_type": "markdown",
   "metadata": {},
   "source": [
    "___"
   ]
  },
  {
   "cell_type": "markdown",
   "metadata": {},
   "source": [
    "## Two Dimensional Ising Model\n",
    "We'll start with a two dimensional Ising Model and go from there"
   ]
  },
  {
   "cell_type": "code",
   "execution_count": null,
   "metadata": {},
   "outputs": [],
   "source": []
  }
 ],
 "metadata": {
  "kernelspec": {
   "display_name": "Python 3",
   "language": "python",
   "name": "python3"
  },
  "language_info": {
   "codemirror_mode": {
    "name": "ipython",
    "version": 3
   },
   "file_extension": ".py",
   "mimetype": "text/x-python",
   "name": "python",
   "nbconvert_exporter": "python",
   "pygments_lexer": "ipython3",
   "version": "3.6.1"
  }
 },
 "nbformat": 4,
 "nbformat_minor": 2
}
